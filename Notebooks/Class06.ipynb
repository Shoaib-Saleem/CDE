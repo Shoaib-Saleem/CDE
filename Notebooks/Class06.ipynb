{
 "cells": [
  {
   "cell_type": "markdown",
   "id": "f4ba59f4-d695-4be9-9cd8-8b3ed2564b5b",
   "metadata": {},
   "source": [
    "## Shortcuts\n",
    "- ESC + 1,2,3 (To convert cell create heading )\n",
    "- ESC + M (convert selected cell into markdown)\n",
    "- ESC + A (create a cell above)\n",
    "- ESC + B (create a cell below)\n",
    "- ESC + DD (to delete any selected cell)\n",
    "- ESC + Y (convert any cell into code)\n",
    "- Shift + Enter (Execute the cell)\n",
    "- CTRL + Enter (run but stay in same cell\n",
    "- CTRL + Shift + H (to get all shortcut commands)"
   ]
  },
  {
   "cell_type": "code",
   "execution_count": null,
   "id": "19e716c0-20d7-42e4-8dfa-0c8a04c793ac",
   "metadata": {},
   "outputs": [],
   "source": []
  }
 ],
 "metadata": {
  "kernelspec": {
   "display_name": "Python 3 (ipykernel)",
   "language": "python",
   "name": "python3"
  },
  "language_info": {
   "codemirror_mode": {
    "name": "ipython",
    "version": 3
   },
   "file_extension": ".py",
   "mimetype": "text/x-python",
   "name": "python",
   "nbconvert_exporter": "python",
   "pygments_lexer": "ipython3",
   "version": "3.12.7"
  }
 },
 "nbformat": 4,
 "nbformat_minor": 5
}
